{
 "cells": [
  {
   "cell_type": "markdown",
   "metadata": {},
   "source": [
    "# <span style=\"font-size: 1em\">From raw data to temporal graph structure exploration</span><span style=\"font-size: 0.8em\"> Second Assignment</span>\n",
    "<h3>Social Network Analysis 2022-2023</h3>\n",
    "<h5>M.Sc. In Business Analytics (Part Time) 2022-2024 at Athens University of Economics and Business (A.U.E.B.)</h5>\n",
    "\n",
    "---\n",
    "\n",
    "> Student: Panagiotis G. Vaidomarkakis<br />\n",
    "> Student I.D.: p2822203<br />\n",
    "> Instructor: Dr. Katia Papakonstantinopoulou<br />\n",
    "> Due Date: 08/07/2023"
   ]
  },
  {
   "cell_type": "code",
   "execution_count": 1,
   "metadata": {},
   "outputs": [
    {
     "name": "stdout",
     "output_type": "stream",
     "text": [
      "The Current working directory is: c:\\Users\\pvaidoma\\Downloads\\Social Network Graphs\n",
      "The Current working directory now is: c:\\Users\\pvaidoma\\Downloads\\Social Network Graphs\n"
     ]
    }
   ],
   "source": [
    "# Importing the module\n",
    "import os\n",
    "print(\"The Current working directory is: {0}\".format(os.getcwd()))\n",
    "# Changing the current working directory\n",
    "#os.chdir() <-- put here your working directory\n",
    "print(\"The Current working directory now is: {0}\".format(os.getcwd()))"
   ]
  },
  {
   "cell_type": "markdown",
   "metadata": {},
   "source": [
    "(You should use the following cell only if you haven't install tqdm package)"
   ]
  },
  {
   "cell_type": "code",
   "execution_count": 2,
   "metadata": {},
   "outputs": [],
   "source": [
    "# %pip install tqdm"
   ]
  },
  {
   "cell_type": "markdown",
   "metadata": {},
   "source": [
    "The following code contains all the data preparation which needed in order to extract the data for the specific days that we need.<br>\n",
    "I tried to follow all the instructions to extract the right info.<br>\n",
    "From my point of view, I have decided to exclude all hashtags that contains less than 3 numbers because they don't seem to mean something. For example, #1 can mean anything and it is something very common. 4 or more digits are acceptable, because of dates (for example #1995).<br>\n",
    "I kept all hashtags that have letters or numbers, for example #1music is an acceptable hashtag.<br>\n",
    "All the other extract is based on the instructions."
   ]
  },
  {
   "cell_type": "code",
   "execution_count": 3,
   "metadata": {},
   "outputs": [
    {
     "name": "stderr",
     "output_type": "stream",
     "text": [
      "100%|██████████| 46200000/46200000 [09:08<00:00, 84246.98it/s]\n"
     ]
    },
    {
     "name": "stdout",
     "output_type": "stream",
     "text": [
      "All CSV files are ready!\n",
      "Elapsed Time: 9 minutes and 12.01 seconds\n"
     ]
    }
   ],
   "source": [
    "import datetime\n",
    "import re\n",
    "import time\n",
    "import random\n",
    "import gzip\n",
    "from tqdm import tqdm\n",
    "\n",
    "# Operations timer\n",
    "start_time = time.time()\n",
    "\n",
    "def ParseTweet(tweet):\n",
    "    mentions = re.findall(r'@(\\w+)', tweet)\n",
    "    hashtags = re.findall(r'#(\\w+)', tweet)\n",
    "    filtered_hashtags = [f\"#{tag}\" for tag in hashtags if re.search(r'^\\d{4,}|[a-zA-Z]', tag)]\n",
    "    return mentions, filtered_hashtags\n",
    "\n",
    "def ReadTweet(f, user_hashtags):\n",
    "    f.readline()\n",
    "    TimeLine = f.readline()\n",
    "    UserLine = f.readline()\n",
    "    TweetLine = f.readline()\n",
    "\n",
    "    Timestamp = datetime.datetime.strptime(TimeLine.split('\\t')[1].strip(), '%Y-%m-%d %H:%M:%S')\n",
    "    Username = UserLine.split('\\t')[1].strip().split('/')[-1]\n",
    "    Tweet = TweetLine.split('\\t')[1].strip()\n",
    "\n",
    "    Mentions, Hashtags = ParseTweet(Tweet)\n",
    "\n",
    "    return (Timestamp, Username, Mentions, Hashtags)\n",
    "\n",
    "AggregateData = dict()\n",
    "UserHashtags = dict()  # Dictionary to store hashtag counts for each user for each day\n",
    "raw_data_file = \"tweets2009-07.txt.gz\" # <-- this can be found at https://drive.google.com/file/d/1RjWUg-6KrVOjJPZHHQg-h_9gSSWZUPn-/view\n",
    "with gzip.open(raw_data_file, 'rt', encoding='utf-8') as f:\n",
    "    i = 0\n",
    "    pbar = tqdm(total=46200000)  # Set the total number of records to process\n",
    "\n",
    "    while True:\n",
    "        i += 1\n",
    "        if i % 100000 == 0:\n",
    "            pbar.update(100000)  # Update the progress bar\n",
    "\n",
    "        try:\n",
    "            Timestamp, Username, Mentions, Hashtags = ReadTweet(f, UserHashtags)\n",
    "        except:  # End of file\n",
    "            break\n",
    "\n",
    "        if Timestamp < datetime.datetime(2009, 7, 1, 0, 0, 0) or Timestamp > datetime.datetime(2009, 7, 5, 23, 59, 59):\n",
    "            continue\n",
    "\n",
    "        # Create dictionaries for each day and each user if they don't exist\n",
    "        if Timestamp.date() not in AggregateData.keys():\n",
    "            AggregateData[Timestamp.date()] = dict()\n",
    "        if Timestamp.date() not in UserHashtags.keys():\n",
    "            UserHashtags[Timestamp.date()] = dict()\n",
    "\n",
    "        for mention in Mentions:\n",
    "            AggregateData[Timestamp.date()][(Username, mention)] = AggregateData[Timestamp.date()].get((Username, mention), 0) + 1\n",
    "\n",
    "        # Increment hashtag counts for the user\n",
    "        if Username not in UserHashtags[Timestamp.date()]:\n",
    "            UserHashtags[Timestamp.date()][Username] = dict()\n",
    "        for hashtag in Hashtags:\n",
    "            UserHashtags[Timestamp.date()][Username][hashtag] = UserHashtags[Timestamp.date()][Username].get(hashtag, 0) + 1\n",
    "\n",
    "    pbar.close()  # Close the progress bar\n",
    "\n",
    "# Determine the most important topic for each user for each day\n",
    "UserTopics = dict()\n",
    "for date, hashtags in UserHashtags.items():\n",
    "    UserTopics[date] = dict()\n",
    "    for user, user_hashtags in hashtags.items():\n",
    "        if user_hashtags:\n",
    "            max_count = max(user_hashtags.values())\n",
    "            max_topics = [topic for topic, count in user_hashtags.items() if count == max_count]\n",
    "            random_topic = random.choice(max_topics)\n",
    "            UserTopics[date][user] = random_topic\n",
    "        else:\n",
    "            UserTopics[date][user] = 'null/na'\n",
    "\n",
    "# Write user topics to separate CSV files for each day and for each user\n",
    "for date, topics in UserTopics.items():\n",
    "    filename = date.strftime('topic_of_interest_%Y_%m_%d.csv')\n",
    "    with open(filename, 'w', encoding='utf8') as f:\n",
    "        f.write('user,topic_of_interest\\n')\n",
    "        for user, topic in topics.items():\n",
    "            f.write('{},{}\\n'.format(user, topic))\n",
    "\n",
    "# Write mention data to CSV files for each day\n",
    "for date, data in AggregateData.items():\n",
    "    filename = date.strftime('edgelist_%Y_%m_%d.csv')\n",
    "    with open(filename, 'w', encoding='utf8') as f:\n",
    "        f.write('from,to,weight\\n')\n",
    "        for pair, weight in data.items():\n",
    "            f.write('{},{},{}\\n'.format(pair[0], pair[1], weight))\n",
    "\n",
    "# End of timer\n",
    "elapsed_time = time.time() - start_time\n",
    "minutes, seconds = divmod(elapsed_time, 60)\n",
    "print(\"All CSV files are ready!\")\n",
    "print(\"Elapsed Time: {:.0f} minutes and {:.2f} seconds\".format(minutes, seconds))"
   ]
  }
 ],
 "metadata": {
  "kernelspec": {
   "display_name": "Python 3",
   "language": "python",
   "name": "python3"
  },
  "language_info": {
   "codemirror_mode": {
    "name": "ipython",
    "version": 3
   },
   "file_extension": ".py",
   "mimetype": "text/x-python",
   "name": "python",
   "nbconvert_exporter": "python",
   "pygments_lexer": "ipython3",
   "version": "3.10.7"
  },
  "orig_nbformat": 4
 },
 "nbformat": 4,
 "nbformat_minor": 2
}
